{
  "nbformat": 4,
  "nbformat_minor": 0,
  "metadata": {
    "colab": {
      "provenance": [],
      "authorship_tag": "ABX9TyOK+/7X92Cr+Hrs2x0bcaSg",
      "include_colab_link": true
    },
    "kernelspec": {
      "name": "ir",
      "display_name": "R"
    },
    "language_info": {
      "name": "R"
    }
  },
  "cells": [
    {
      "cell_type": "markdown",
      "metadata": {
        "id": "view-in-github",
        "colab_type": "text"
      },
      "source": [
        "<a href=\"https://colab.research.google.com/github/jalaluddinkhan1/MY_Notes/blob/main/Basic_R_Prgoram.ipynb\" target=\"_parent\"><img src=\"https://colab.research.google.com/assets/colab-badge.svg\" alt=\"Open In Colab\"/></a>"
      ]
    },
    {
      "cell_type": "markdown",
      "source": [
        "#R programming :Baics"
      ],
      "metadata": {
        "id": "ajDdC6maZ6Fi"
      }
    },
    {
      "cell_type": "markdown",
      "source": [
        "Write a program to get the details of the objects in memory"
      ],
      "metadata": {
        "id": "Lergtnp3aAEk"
      }
    },
    {
      "cell_type": "code",
      "source": [
        "a=\"kaif\"\n",
        "b=10\n",
        "c= c(10,20,205,551)\n",
        "print(ls.str())"
      ],
      "metadata": {
        "colab": {
          "base_uri": "https://localhost:8080/"
        },
        "id": "xN_As9NBelGd",
        "outputId": "8fc61c04-bd70-4279-8f32-a2fc14e88ba0"
      },
      "execution_count": 5,
      "outputs": [
        {
          "output_type": "stream",
          "name": "stdout",
          "text": [
            "a :  chr \"kaif\"\n",
            "b :  num 10\n",
            "c :  num [1:4] 10 20 205 551\n",
            "vect :  NULL\n"
          ]
        }
      ]
    },
    {
      "cell_type": "markdown",
      "source": [
        "Write  program to create a sequence of numbers from 20 to 50 and find the mean of numbers from 20 to 60 and sum of numbers from 51 to 91."
      ],
      "metadata": {
        "id": "UCcPTRD3evX3"
      }
    },
    {
      "cell_type": "code",
      "source": [
        "print(\"sequence of number form 20 to 50 : \")\n",
        "print(seq(20,50))\n",
        "print(\"mean of number from 20 to 60 : \")\n",
        "print(mean(20:50))\n",
        "print(\"mean of number from 50 to 91:\")\n",
        "print(sum(51:91))"
      ],
      "metadata": {
        "colab": {
          "base_uri": "https://localhost:8080/"
        },
        "id": "IgQCnHXIfN8G",
        "outputId": "f1753757-af8d-4fcb-a966-d94859655fff"
      },
      "execution_count": 9,
      "outputs": [
        {
          "output_type": "stream",
          "name": "stdout",
          "text": [
            "[1] \"sequence of number form 20 to 50 : \"\n",
            " [1] 20 21 22 23 24 25 26 27 28 29 30 31 32 33 34 35 36 37 38 39 40 41 42 43 44\n",
            "[26] 45 46 47 48 49 50\n",
            "[1] \"mean of number from 20 to 60 : \"\n",
            "[1] 35\n",
            "[1] \"mean of number from 50 to 91:\"\n",
            "[1] 2911\n"
          ]
        }
      ]
    },
    {
      "cell_type": "markdown",
      "source": [
        "###Write a program to create a vector which contains 10 random integer values between -50 and +50.\n"
      ],
      "metadata": {
        "id": "8dj_cdMPffHT"
      }
    },
    {
      "cell_type": "code",
      "source": [
        "n=sample(-50:50,10,replace=TRUE)\n",
        "n"
      ],
      "metadata": {
        "colab": {
          "base_uri": "https://localhost:8080/",
          "height": 34
        },
        "id": "YQOcHAOJgMZl",
        "outputId": "373fafc9-7553-49d6-a187-cfaada35cebd"
      },
      "execution_count": 11,
      "outputs": [
        {
          "output_type": "display_data",
          "data": {
            "text/html": [
              "<style>\n",
              ".list-inline {list-style: none; margin:0; padding: 0}\n",
              ".list-inline>li {display: inline-block}\n",
              ".list-inline>li:not(:last-child)::after {content: \"\\00b7\"; padding: 0 .5ex}\n",
              "</style>\n",
              "<ol class=list-inline><li>-19</li><li>-34</li><li>-1</li><li>37</li><li>-50</li><li>32</li><li>17</li><li>29</li><li>-36</li><li>-17</li></ol>\n"
            ],
            "text/markdown": "1. -19\n2. -34\n3. -1\n4. 37\n5. -50\n6. 32\n7. 17\n8. 29\n9. -36\n10. -17\n\n\n",
            "text/latex": "\\begin{enumerate*}\n\\item -19\n\\item -34\n\\item -1\n\\item 37\n\\item -50\n\\item 32\n\\item 17\n\\item 29\n\\item -36\n\\item -17\n\\end{enumerate*}\n",
            "text/plain": [
              " [1] -19 -34  -1  37 -50  32  17  29 -36 -17"
            ]
          },
          "metadata": {}
        }
      ]
    },
    {
      "cell_type": "markdown",
      "source": [
        "###Write a program to get the first 10 Fibonacci numbers\n"
      ],
      "metadata": {
        "id": "W3U2FFc-ga-g"
      }
    },
    {
      "cell_type": "code",
      "source": [
        "x=0\n",
        "y=1\n",
        "for(i in 1:10){\n",
        "  print(x+y)\n",
        "  temp=x\n",
        "  x=y\n",
        "  y=temp+y\n",
        "}"
      ],
      "metadata": {
        "colab": {
          "base_uri": "https://localhost:8080/"
        },
        "id": "yNdxWO2ygnpc",
        "outputId": "e4842d88-18eb-489d-e7f2-728f8e33c254"
      },
      "execution_count": 16,
      "outputs": [
        {
          "output_type": "stream",
          "name": "stdout",
          "text": [
            "[1] 1\n",
            "[1] 2\n",
            "[1] 3\n",
            "[1] 5\n",
            "[1] 8\n",
            "[1] 13\n",
            "[1] 21\n",
            "[1] 34\n",
            "[1] 55\n",
            "[1] 89\n"
          ]
        }
      ]
    },
    {
      "cell_type": "code",
      "source": [
        "#method 2"
      ],
      "metadata": {
        "id": "rf1VwHv7g0UC"
      },
      "execution_count": 17,
      "outputs": []
    },
    {
      "cell_type": "code",
      "source": [
        "fib = numeric(10)\n",
        "fib[1]=fib[2] = 1\n",
        "for(i in 3:10){\n",
        "  fib[i]=fib[i-2]+fib[i-1]\n",
        "}\n",
        "print(fib)"
      ],
      "metadata": {
        "colab": {
          "base_uri": "https://localhost:8080/"
        },
        "id": "Ap2KP7wnjO37",
        "outputId": "39c4f94c-dd76-4942-b43b-6fe7b27d77a6"
      },
      "execution_count": 18,
      "outputs": [
        {
          "output_type": "stream",
          "name": "stdout",
          "text": [
            " [1]  1  1  2  3  5  8 13 21 34 55\n"
          ]
        }
      ]
    },
    {
      "cell_type": "markdown",
      "source": [
        "## Write a program to get all prime numbers up to a given number (based on the sieve of Eratosthenes)\n",
        "\n",
        "######The Sieve of Eratosthenes is an ancient algorithm for finding all prime numbers up to any given limit.\n",
        "\n",
        "#####It works by iteratively marking the multiples of numbers starting from 2, the first prime number."
      ],
      "metadata": {
        "id": "Snt7LEjBjqnf"
      }
    },
    {
      "cell_type": "code",
      "source": [
        "prime_numbers <- function(n) {\n",
        "if (n >= 2) {\n",
        " x = seq(2, n)\n",
        " prime_nums = c()\n",
        " for (i in seq(2, n)) {\n",
        " if (any(x == i)) {\n",
        " prime_nums = c(prime_nums, i)\n",
        " x = c(x[(x %% i) != 0], i)\n",
        " }\n",
        " }\n",
        " return(prime_nums)\n",
        " }\n",
        " else\n",
        " {\n",
        " stop(\"Input number should be at least 2.\")\n",
        " }\n",
        " }\n",
        "prime_numbers(12)\n",
        ""
      ],
      "metadata": {
        "colab": {
          "base_uri": "https://localhost:8080/",
          "height": 34
        },
        "id": "BRd1fmdgj91f",
        "outputId": "f300ad51-893b-4942-f412-e00292928b9e"
      },
      "execution_count": 20,
      "outputs": [
        {
          "output_type": "display_data",
          "data": {
            "text/html": [
              "<style>\n",
              ".list-inline {list-style: none; margin:0; padding: 0}\n",
              ".list-inline>li {display: inline-block}\n",
              ".list-inline>li:not(:last-child)::after {content: \"\\00b7\"; padding: 0 .5ex}\n",
              "</style>\n",
              "<ol class=list-inline><li>2</li><li>3</li><li>5</li><li>7</li><li>11</li></ol>\n"
            ],
            "text/markdown": "1. 2\n2. 3\n3. 5\n4. 7\n5. 11\n\n\n",
            "text/latex": "\\begin{enumerate*}\n\\item 2\n\\item 3\n\\item 5\n\\item 7\n\\item 11\n\\end{enumerate*}\n",
            "text/plain": [
              "[1]  2  3  5  7 11"
            ]
          },
          "metadata": {}
        }
      ]
    },
    {
      "cell_type": "markdown",
      "source": [
        "#####Write a program to print the numbers from 1 to 100 and print \"Fizz\" for multiples of 3, print \"Buzz\" for multiples of 5, and print \"FizzBuzz\" for multiples of both\n"
      ],
      "metadata": {
        "id": "aiKbVJwirYAe"
      }
    },
    {
      "cell_type": "code",
      "source": [
        "for(n in 1:100){\n",
        "  if(n %% 3 ==0 & n%%5==0){\n",
        "    print(\"FizzBuzz\")\n",
        "  }\n",
        "  else if(n%%3 ==0){\n",
        "    print(\"Fizz\")\n",
        "  }\n",
        "  else if(n%%5==0){\n",
        "    print(\"Buzz\")\n",
        "  }\n",
        "  else print(n)\n",
        "}"
      ],
      "metadata": {
        "colab": {
          "base_uri": "https://localhost:8080/"
        },
        "id": "jr3-eI6wriFL",
        "outputId": "551ca327-9045-48ca-9c3d-c154dc700d9f"
      },
      "execution_count": 21,
      "outputs": [
        {
          "output_type": "stream",
          "name": "stdout",
          "text": [
            "[1] 1\n",
            "[1] 2\n",
            "[1] \"Fizz\"\n",
            "[1] 4\n",
            "[1] \"Buzz\"\n",
            "[1] \"Fizz\"\n",
            "[1] 7\n",
            "[1] 8\n",
            "[1] \"Fizz\"\n",
            "[1] \"Buzz\"\n",
            "[1] 11\n",
            "[1] \"Fizz\"\n",
            "[1] 13\n",
            "[1] 14\n",
            "[1] \"FizzBuzz\"\n",
            "[1] 16\n",
            "[1] 17\n",
            "[1] \"Fizz\"\n",
            "[1] 19\n",
            "[1] \"Buzz\"\n",
            "[1] \"Fizz\"\n",
            "[1] 22\n",
            "[1] 23\n",
            "[1] \"Fizz\"\n",
            "[1] \"Buzz\"\n",
            "[1] 26\n",
            "[1] \"Fizz\"\n",
            "[1] 28\n",
            "[1] 29\n",
            "[1] \"FizzBuzz\"\n",
            "[1] 31\n",
            "[1] 32\n",
            "[1] \"Fizz\"\n",
            "[1] 34\n",
            "[1] \"Buzz\"\n",
            "[1] \"Fizz\"\n",
            "[1] 37\n",
            "[1] 38\n",
            "[1] \"Fizz\"\n",
            "[1] \"Buzz\"\n",
            "[1] 41\n",
            "[1] \"Fizz\"\n",
            "[1] 43\n",
            "[1] 44\n",
            "[1] \"FizzBuzz\"\n",
            "[1] 46\n",
            "[1] 47\n",
            "[1] \"Fizz\"\n",
            "[1] 49\n",
            "[1] \"Buzz\"\n",
            "[1] \"Fizz\"\n",
            "[1] 52\n",
            "[1] 53\n",
            "[1] \"Fizz\"\n",
            "[1] \"Buzz\"\n",
            "[1] 56\n",
            "[1] \"Fizz\"\n",
            "[1] 58\n",
            "[1] 59\n",
            "[1] \"FizzBuzz\"\n",
            "[1] 61\n",
            "[1] 62\n",
            "[1] \"Fizz\"\n",
            "[1] 64\n",
            "[1] \"Buzz\"\n",
            "[1] \"Fizz\"\n",
            "[1] 67\n",
            "[1] 68\n",
            "[1] \"Fizz\"\n",
            "[1] \"Buzz\"\n",
            "[1] 71\n",
            "[1] \"Fizz\"\n",
            "[1] 73\n",
            "[1] 74\n",
            "[1] \"FizzBuzz\"\n",
            "[1] 76\n",
            "[1] 77\n",
            "[1] \"Fizz\"\n",
            "[1] 79\n",
            "[1] \"Buzz\"\n",
            "[1] \"Fizz\"\n",
            "[1] 82\n",
            "[1] 83\n",
            "[1] \"Fizz\"\n",
            "[1] \"Buzz\"\n",
            "[1] 86\n",
            "[1] \"Fizz\"\n",
            "[1] 88\n",
            "[1] 89\n",
            "[1] \"FizzBuzz\"\n",
            "[1] 91\n",
            "[1] 92\n",
            "[1] \"Fizz\"\n",
            "[1] 94\n",
            "[1] \"Buzz\"\n",
            "[1] \"Fizz\"\n",
            "[1] 97\n",
            "[1] 98\n",
            "[1] \"Fizz\"\n",
            "[1] \"Buzz\"\n"
          ]
        }
      ]
    },
    {
      "cell_type": "markdown",
      "source": [
        "#####Write a program to find the factors of a given number\n"
      ],
      "metadata": {
        "id": "6OHFtXKRs6K6"
      }
    },
    {
      "cell_type": "code",
      "source": [
        "factor=function(n){\n",
        "  for(i in 1:n){\n",
        "    if(n%%i==0){\n",
        "      print(i)\n",
        "    }\n",
        "  }\n",
        "}\n",
        "\n",
        "factor(10)"
      ],
      "metadata": {
        "colab": {
          "base_uri": "https://localhost:8080/"
        },
        "id": "4UiOdSo8t9L2",
        "outputId": "3019fa28-e8c3-434a-f432-676dd8562126"
      },
      "execution_count": 23,
      "outputs": [
        {
          "output_type": "stream",
          "name": "stdout",
          "text": [
            "[1] 1\n",
            "[1] 2\n",
            "[1] 5\n",
            "[1] 10\n"
          ]
        }
      ]
    },
    {
      "cell_type": "markdown",
      "source": [
        "######Write a program to find the maximum and the minimum value of a given vector"
      ],
      "metadata": {
        "id": "F-2NmezCur3-"
      }
    },
    {
      "cell_type": "code",
      "source": [
        "df=c(10,20,30,40,50,60,555,47)\n",
        "print(paste(\"max value =  \",max(df)))\n",
        "print(paste(\"minimum value =  \",min(df)))"
      ],
      "metadata": {
        "colab": {
          "base_uri": "https://localhost:8080/"
        },
        "id": "t9zstmv1u2eW",
        "outputId": "bba1693f-d831-42ca-920e-8de94c3d6287"
      },
      "execution_count": 26,
      "outputs": [
        {
          "output_type": "stream",
          "name": "stdout",
          "text": [
            "[1] \"max value =   555\"\n",
            "[1] \"minimum value =   10\"\n"
          ]
        }
      ]
    },
    {
      "cell_type": "markdown",
      "source": [
        "######Write a R program to get the unique elements of a given string and unique numbers of vector\n"
      ],
      "metadata": {
        "id": "P4HB-ieRvGyv"
      }
    },
    {
      "cell_type": "code",
      "source": [
        "num=c(1,1,2,2,3,5,6,8,9,9,4,8,5,2)\n",
        "print(unique(num))"
      ],
      "metadata": {
        "colab": {
          "base_uri": "https://localhost:8080/"
        },
        "id": "6cH7iQ2OwL7h",
        "outputId": "81d7c087-3ac5-482a-e75f-d3bd2cddfd3c"
      },
      "execution_count": 31,
      "outputs": [
        {
          "output_type": "stream",
          "name": "stdout",
          "text": [
            "[1] 1 2 3 5 6 8 9 4\n"
          ]
        }
      ]
    },
    {
      "cell_type": "markdown",
      "source": [
        "#####Write a program to create three vectors a,b,c with 3 integers. Combine the three vectors to become a 3×3 matrix where each column represents a vector. Print the content of the matrix\n"
      ],
      "metadata": {
        "id": "C7cnSQL5wb5c"
      }
    },
    {
      "cell_type": "code",
      "source": [
        "a=c(10,20,30)\n",
        "b=c(40,50,60)\n",
        "c=c(70,80,90)\n",
        "m<-cbind(a,b,c)    #make it a combine matrix\n",
        "print(m)"
      ],
      "metadata": {
        "colab": {
          "base_uri": "https://localhost:8080/"
        },
        "id": "4_JDPGDCxDaa",
        "outputId": "4c0fae18-115f-4f9d-fbca-4a41ae44009f"
      },
      "execution_count": 32,
      "outputs": [
        {
          "output_type": "stream",
          "name": "stdout",
          "text": [
            "      a  b  c\n",
            "[1,] 10 40 70\n",
            "[2,] 20 50 80\n",
            "[3,] 30 60 90\n"
          ]
        }
      ]
    },
    {
      "cell_type": "markdown",
      "source": [
        "#####Write a program to create a list of random numbers in normal distribution and count occurrences of each value."
      ],
      "metadata": {
        "id": "H8Cv--ySyXFq"
      }
    },
    {
      "cell_type": "code",
      "source": [
        "#floor rounds the number like 50.24 beacouse 50\n",
        "#rnom()-- random normal distribution\n",
        "n = floor(rnorm(1000, 50, 100))\n",
        "print(n)\n",
        "t=table(n)\n",
        "print(t)"
      ],
      "metadata": {
        "colab": {
          "base_uri": "https://localhost:8080/"
        },
        "id": "PwbAYVzyyy9b",
        "outputId": "ba44a29e-8dc1-47d3-b9b9-731185140d78"
      },
      "execution_count": 34,
      "outputs": [
        {
          "output_type": "stream",
          "name": "stdout",
          "text": [
            "   [1]  145  -73  175  111  -79  160  -27   86   19  -25 -113  166  -44  199\n",
            "  [15]   62  178   60    3   88 -141   -4  -59  -99   79  -44  -51  229   20\n",
            "  [29]   15   16  183   89  -47   79   33  -29    8    9  274   75   33  216\n",
            "  [43]   30  210  -46  189  178  190   12   63   60  161   62  204  123  225\n",
            "  [57]   39  -69   88   94 -123   -3  191   -9  -22  118  180  302   17   68\n",
            "  [71]  109  103  272  -85   13  153  201  126  198   47   87   47 -197  -91\n",
            "  [85]  -27  148 -108  133   24   65  -71  131   49    8  158  122   27 -181\n",
            "  [99]   73   36   -4  -40  106   23  -58  -47   51   73  165 -133  136  -48\n",
            " [113]   28  -76   17  125  -45  -10  -68   22  163  -17   65  179  127   19\n",
            " [127]  112 -128  285   -8   24  152  -38  -75   31   37   27   27  100   98\n",
            " [141]   14  -86   51  265   94 -100  -44  -93   47  -33  132  -57 -110   17\n",
            " [155]  116    6   35   -5  261   18   85 -123  154   15  -82  -89  107  -66\n",
            " [169]  196   11  -17   69  -98   47  109   47   69  202  159  -55  155  136\n",
            " [183]  146   14  -65  -18   -4  -32  -59   44   80  -17  193  136   46  -93\n",
            " [197]   25  -42   32  101  -94   93  244  -11   29 -232  156  -83   85   49\n",
            " [211]   54  122   15  149   69  -65  208  100  140   53   31 -164  181  180\n",
            " [225]   89  -72    6   89  128   55 -111   71  -58   95  228   69  -41  128\n",
            " [239]  -37  133  146  113    3   25   81   -9   41  -28  -22  -77  167  219\n",
            " [253]    0  143  -29   96  284   94  104  -97   30   68  -91   42   80  -96\n",
            " [267]   77  182   71  -93  287  153  110   86   38   72    8  125  259   -6\n",
            " [281]   59   63  111   68   35  257  163  143  139  -19   40  260   38 -139\n",
            " [295]  161   23   44   47  181 -113  191  106  132  -12   37  -56  308  163\n",
            " [309]   50  121   82   10   39  189   32  -99   94  -25  130   21   46 -108\n",
            " [323]   18   81   -1  180  248  126   -6   90   25   60  212  206  234  162\n",
            " [337]   65  210 -150    4  -63  106   11  -79   12  117  168   99   29 -112\n",
            " [351]   22   -8  -19   83  197   47   59  -35 -116   77   55   84  -26  -16\n",
            " [365]  140   49   44   80  120  185   14  178 -123  -62   35 -109   20   95\n",
            " [379]   73   36 -123   98  166   73  167   92  -24  -25 -130  149  200  256\n",
            " [393]  -35   47  120  -85   23    6   60   23   70  -52 -151  -51   36   29\n",
            " [407]  -69  103  -96  -47   73   86   62  159   30  -22   39  -17   30  117\n",
            " [421]  -19  100   35   81   55  -35   97  106  -85  -12  109   50  120  -96\n",
            " [435] -101  122   19   25   41   83  -63  -57   17  120   52  -14  -61  153\n",
            " [449]  201    1  -30   39  -12   43   45  131  -41   19  143    8  -38  -21\n",
            " [463]   37 -162  -67  125  123   62  -27  123   32  124   39   82  -83   28\n",
            " [477]   70   38  124   -2   23 -148   42   83   62  107   28  -21  -39 -146\n",
            " [491]  -38   33  189  -50  -67   24   95  -63   86  -45   11   -3   74  237\n",
            " [505]  -55   83   87   74   33   54   22  187   79  -31  -65  110  119 -201\n",
            " [519]   91  123   24   20  129   60 -157  -88  -66   95  -35  108  -42  -18\n",
            " [533]  -88   44  117   83    7  -56   22  -70   30  111  110  118 -163   45\n",
            " [547]   10   81  151   17  129  -52    1  -27  -23   49   20  136   78  104\n",
            " [561]    7   21  185  284  144 -176   70  209   24  -38  -30  -73  -30  108\n",
            " [575]   98   19  -66    0  135  -70  151  131  150   74  207   95 -169   97\n",
            " [589]   13   91   -5  161  -58  -93  143   46   15  -60 -101   50  -77  102\n",
            " [603]  -45   87  122   17   85 -227   66  132  105   34   31  -69  130  -70\n",
            " [617]   95  -51  122   50    2  260  104  126  141  -82   80  -65  -66   90\n",
            " [631]   23   58  -76  115  -76  -22  251   49  -27  -27  -43  107   65    2\n",
            " [645]  125   30   99  -44  228  107  -85  147  145   31  104  256  174 -145\n",
            " [659] -100  -69  113   42    2  173   -6   96   47   46  -49  125   50   67\n",
            " [673]  139  -92  135  -18   79   12 -107  137  129   76  104  -68  313  199\n",
            " [687]    3  317   74 -136  109  -77   71  -35   77   21   60  178  117  106\n",
            " [701]   42  -96  144  107   73  316    1  109   30  147   31   50   51 -124\n",
            " [715]   -6  218   21   44  -37    6  102   24  160   37   14   75  -51  -12\n",
            " [729]   35  174   49    2  260    1  221  135  -71  -59   47  -41   -3  -27\n",
            " [743]  107  263  255  237  -41  100  220  -20   -7  156  162   -8   73  -97\n",
            " [757] -145  133 -227 -136   49   86  139  -30  129   34   49   57 -244  122\n",
            " [771]  143 -133  -17  -80   79  272   66  157  -49   57  -95  134  172  -34\n",
            " [785]  -49  112  -20  112  148   45   49  140  143  -26  -41  181  -59  -36\n",
            " [799]  -12  -40  -86  -53   98  -37   95  -78  261  -44  -13  -54   88   92\n",
            " [813]   71  135  182  158  -53   21  -75  -81  169   -1   90  -77  110  142\n",
            " [827]   15   45 -105  274  143  -55   76  -26  128   54   68   93  377  154\n",
            " [841]  -98  207  -77  119   18   96   44  -37   94  -92  -88   13  -41   13\n",
            " [855]   -1  124  151  158  -69  -94  -62   19   45    7  112   61   51  -38\n",
            " [869]    1  -10   26  154  -13  -43  235  -78   -7   -6  -57   27   28  -12\n",
            " [883]   30  108   76  200   94  162   19  -21  -42   46   90   98   43  -57\n",
            " [897]  -58  198  -17  -74  117  -41   52  -28  -13  257   50  104  122  -56\n",
            " [911]   38   -9    0  266  100   55  151   20  124  150  -55  137  -29  108\n",
            " [925]  120   76  149   96 -260  182   69   33  103   89  -36  -32  122  148\n",
            " [939] -106   31  -52   39  105   55  116   74 -147  -23  -60   38  -98   33\n",
            " [953]   86  187  124  113   55  110  -16  -46  -22   25  -51  -39  -23  157\n",
            " [967]  -38  220   90  113  265  -23   94   51   54    6  173   57   77  136\n",
            " [981]   30  -24  190  -46    6  -24  201  173  162   94   74  259  116  -33\n",
            " [995]  -68  -13 -124   89  176   93\n",
            "n\n",
            "-260 -244 -232 -227 -201 -197 -181 -176 -169 -164 -163 -162 -157 -151 -150 -148 \n",
            "   1    1    1    2    1    1    1    1    1    1    1    1    1    1    1    1 \n",
            "-147 -146 -145 -141 -139 -136 -133 -130 -128 -124 -123 -116 -113 -112 -111 -110 \n",
            "   1    1    2    1    1    2    2    1    1    2    4    1    2    1    1    1 \n",
            "-109 -108 -107 -106 -105 -101 -100  -99  -98  -97  -96  -95  -94  -93  -92  -91 \n",
            "   1    2    1    1    1    2    2    2    3    2    4    1    2    4    2    2 \n",
            " -89  -88  -86  -85  -83  -82  -81  -80  -79  -78  -77  -76  -75  -74  -73  -72 \n",
            "   1    3    2    4    2    2    1    1    2    2    5    3    2    1    2    1 \n",
            " -71  -70  -69  -68  -67  -66  -65  -63  -62  -61  -60  -59  -58  -57  -56  -55 \n",
            "   2    3    5    3    2    4    4    3    2    1    2    4    4    4    3    4 \n",
            " -54  -53  -52  -51  -50  -49  -48  -47  -46  -45  -44  -43  -42  -41  -40  -39 \n",
            "   1    2    3    5    1    3    1    3    3    3    5    2    3    7    2    2 \n",
            " -38  -37  -36  -35  -34  -33  -32  -31  -30  -29  -28  -27  -26  -25  -24  -23 \n",
            "   6    4    2    5    1    2    2    1    4    3    2    7    3    3    3    4 \n",
            " -22  -21  -20  -19  -18  -17  -16  -14  -13  -12  -11  -10   -9   -8   -7   -6 \n",
            "   5    3    2    3    3    6    2    1    4    6    1    2    3    3    2    5 \n",
            "  -5   -4   -3   -2   -1    0    1    2    3    4    6    7    8    9   10   11 \n",
            "   2    3    3    1    3    3    5    4    3    1    6    3    4    1    2    3 \n",
            "  12   13   14   15   16   17   18   19   20   21   22   23   24   25   26   27 \n",
            "   3    4    4    5    1    6    3    7    5    5    4    6    6    5    1    4 \n",
            "  28   29   30   31   32   33   34   35   36   37   38   39   40   41   42   43 \n",
            "   4    3    9    6    3    6    2    5    3    4    5    6    1    2    4    2 \n",
            "  44   45   46   47   49   50   51   52   53   54   55   57   58   59   60   61 \n",
            "   6    5    5   10    9    7    5    2    1    4    6    3    1    2    6    1 \n",
            "  62   63   65   66   67   68   69   70   71   72   73   74   75   76   77   78 \n",
            "   5    2    4    2    1    4    5    3    4    1    7    6    2    4    4    1 \n",
            "  79   80   81   82   83   84   85   86   87   88   89   90   91   92   93   94 \n",
            "   5    4    4    2    5    1    3    6    3    3    5    5    2    2    3    8 \n",
            "  95   96   97   98   99  100  101  102  103  104  105  106  107  108  109  110 \n",
            "   7    4    2    5    2    5    1    2    3    6    2    5    6    4    5    5 \n",
            " 111  112  113  115  116  117  118  119  120  121  122  123  124  125  126  127 \n",
            "   3    4    4    1    3    5    2    2    5    1    8    4    5    5    3    1 \n",
            " 128  129  130  131  132  133  134  135  136  137  139  140  141  142  143  144 \n",
            "   3    4    2    3    3    3    1    4    5    2    3    3    1    1    7    2 \n",
            " 145  146  147  148  149  150  151  152  153  154  155  156  157  158  159  160 \n",
            "   2    2    2    3    3    2    4    1    3    3    1    2    2    3    2    2 \n",
            " 161  162  163  165  166  167  168  169  172  173  174  175  176  178  179  180 \n",
            "   3    4    3    1    2    2    1    1    1    3    2    1    1    4    1    3 \n",
            " 181  182  183  185  187  189  190  191  193  196  197  198  199  200  201  202 \n",
            "   3    3    1    2    2    3    2    2    1    1    1    2    2    2    3    1 \n",
            " 204  206  207  208  209  210  212  216  218  219  220  221  225  228  229  234 \n",
            "   1    1    2    1    1    2    1    1    1    1    2    1    1    2    1    1 \n",
            " 235  237  244  248  251  255  256  257  259  260  261  263  265  266  272  274 \n",
            "   1    2    1    1    1    1    2    2    2    3    2    1    2    1    2    2 \n",
            " 284  285  287  302  308  313  316  317  377 \n",
            "   2    1    1    1    1    1    1    1    1 \n"
          ]
        }
      ]
    },
    {
      "cell_type": "markdown",
      "source": [
        "#####Write a R program to create a 5 × 4 matrix , 3 × 3 matrix with labels and fill the matrix by rows and 2 × 2 matrix with labels and fill the matrix by columns\n"
      ],
      "metadata": {
        "id": "CYyjOgDU0TS_"
      }
    },
    {
      "cell_type": "code",
      "source": [
        "#matrix with 5 row and 4 colu from value 1 to 20\n",
        "print(\"matrix 1\")\n",
        "m1=matrix(1:20,nrow=5,ncol=4)\n",
        "print(m1)\n",
        "#n2\n",
        "print(\"matrix 2 \")\n",
        "cells = c(1,3,5,7,8,9,11,12,14)\n",
        "row_name=c(\"row1\",\"row2\",\"row3\")\n",
        "col_name=c(\"col1\",\"col2\",\"col3\")\n",
        "m2=matrix(cells,nrow=3,ncol=3,byrow=TRUE,dimnames=list(row_name,col_name))\n",
        "print(m2)\n",
        "print(\"matrix 3\")\n",
        "m3 = matrix(cells, nrow=3, ncol=3, byrow=FALSE, dimnames=list(row_name,col_name))\n",
        "print(m3)\n"
      ],
      "metadata": {
        "colab": {
          "base_uri": "https://localhost:8080/"
        },
        "id": "WTk0-Icy1EW5",
        "outputId": "59dac29d-632d-45ef-cdb8-5e5b1a22f059"
      },
      "execution_count": 40,
      "outputs": [
        {
          "output_type": "stream",
          "name": "stdout",
          "text": [
            "[1] \"matrix 1\"\n",
            "     [,1] [,2] [,3] [,4]\n",
            "[1,]    1    6   11   16\n",
            "[2,]    2    7   12   17\n",
            "[3,]    3    8   13   18\n",
            "[4,]    4    9   14   19\n",
            "[5,]    5   10   15   20\n",
            "[1] \"matrix 2 \"\n",
            "     col1 col2 col3\n",
            "row1    1    3    5\n",
            "row2    7    8    9\n",
            "row3   11   12   14\n",
            "[1] \"matrix 3\"\n",
            "     col1 col2 col3\n",
            "row1    1    7   11\n",
            "row2    3    8   12\n",
            "row3    5    9   14\n"
          ]
        }
      ]
    },
    {
      "cell_type": "code",
      "source": [
        "a"
      ],
      "metadata": {
        "id": "Upn_MTJr1n3E"
      },
      "execution_count": null,
      "outputs": []
    }
  ]
}